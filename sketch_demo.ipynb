{
  "nbformat": 4,
  "nbformat_minor": 0,
  "metadata": {
    "accelerator": "GPU",
    "colab": {
      "name": "sketch_demo",
      "provenance": [],
      "include_colab_link": true
    },
    "kernelspec": {
      "display_name": "Python 3",
      "name": "python3"
    }
  },
  "cells": [
    {
      "cell_type": "markdown",
      "metadata": {
        "id": "view-in-github",
        "colab_type": "text"
      },
      "source": [
        "<a href=\"https://colab.research.google.com/github/cedro3/Sketch-Generation-with-Drawing-Process-Guided-by-Vector-Flow-and-Grayscale/blob/main/sketch_demo.ipynb\" target=\"_parent\"><img src=\"https://colab.research.google.com/assets/colab-badge.svg\" alt=\"Open In Colab\"/></a>"
      ]
    },
    {
      "cell_type": "markdown",
      "metadata": {
        "id": "x-qhLXg0tCNj"
      },
      "source": [
        "# セットアップ"
      ]
    },
    {
      "cell_type": "code",
      "metadata": {
        "id": "lRmfEjSOz5XP"
      },
      "source": [
        "# githubからコードをコピー\r\n",
        "!git clone https://github.com/cedro3/Sketch-Generation-with-Drawing-Process-Guided-by-Vector-Flow-and-Grayscale.git\r\n",
        "%cd Sketch-Generation-with-Drawing-Process-Guided-by-Vector-Flow-and-Grayscale"
      ],
      "execution_count": null,
      "outputs": []
    },
    {
      "cell_type": "markdown",
      "metadata": {
        "id": "j7qPY1YDCfPD"
      },
      "source": [
        "# コード本体"
      ]
    },
    {
      "cell_type": "code",
      "metadata": {
        "id": "V8GmCzCYFNX9"
      },
      "source": [
        "# ------ スケッチプロセスを静止画に変換 ------\n",
        "from draw import *\n",
        "from PIL import Image\n",
        "import glob\n",
        "\n",
        "# setting\n",
        "file_name = 'reika.png'  # inputフォルダーにある画像名の指定\n",
        "n = 10  # グレースケール量子化次数\n",
        "period = 5  # 線（ストローク）幅 \n",
        "\n",
        "# drawing\n",
        "draw(file_name, n, period)"
      ],
      "execution_count": null,
      "outputs": []
    },
    {
      "cell_type": "code",
      "metadata": {
        "id": "-KqwKeC86Vse"
      },
      "source": [
        "# ------ 静止画をmp4に変換 ------\n",
        "# 必要に応じて、output/＊＊＊/process/%04d.jpg  と output/＊＊＊/out.mp4　の＊＊＊部分を修正して下さい。\n",
        "\n",
        "!ffmpeg -r 30 -i output/reika/process/%04d.jpg -vcodec libx264 -pix_fmt yuv420p output/reika/out.mp4"
      ],
      "execution_count": null,
      "outputs": []
    },
    {
      "cell_type": "code",
      "metadata": {
        "id": "DSCZdbO7I2Uw"
      },
      "source": [
        "# ------ mp4の再生 ------\n",
        "from IPython.display import HTML\n",
        "from base64 import b64encode\n",
        "\n",
        "mp4 = open('./output/'+file_name[:-4]+'/out.mp4', 'rb').read()\n",
        "data_url = 'data:video/mp4;base64,' + b64encode(mp4).decode()\n",
        "HTML(f\"\"\"\n",
        "<video width=\"50%\" height=\"50%\" controls>\n",
        "      <source src=\"{data_url}\" type=\"video/mp4\">\n",
        "</video>\"\"\")"
      ],
      "execution_count": null,
      "outputs": []
    },
    {
      "cell_type": "code",
      "metadata": {
        "id": "eSE9kJCYO2Ba"
      },
      "source": [
        "# ------ 変換前後の画像比較 ------\n",
        "import cv2\n",
        "import numpy as np\n",
        "import matplotlib.pyplot as plt\n",
        "\n",
        "img1 = cv2.imread('./output/'+file_name[:-4]+'/input.jpg')\n",
        "src1 = cv2.cvtColor(img1, cv2.COLOR_BGR2RGB)\n",
        "img2 = cv2.imread('./output/'+file_name[:-4]+'/result_RGB.jpg')\n",
        "src2 = cv2.cvtColor(img2, cv2.COLOR_BGR2RGB)\n",
        "\n",
        "fig = plt.figure(figsize=(10,10))\n",
        "plt.subplot(1,2,1)\n",
        "plt.imshow(src1), plt.title('input')\n",
        "plt.axis('off')\n",
        "plt.subplot(1,2,2)\n",
        "plt.imshow(src2), plt.title('generated')\n",
        "plt.axis('off')\n",
        "plt.show()"
      ],
      "execution_count": null,
      "outputs": []
    }
  ]
}