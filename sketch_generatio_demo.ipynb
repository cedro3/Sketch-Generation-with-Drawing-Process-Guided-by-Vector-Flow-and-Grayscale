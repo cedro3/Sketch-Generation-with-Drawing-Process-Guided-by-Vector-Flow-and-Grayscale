{
  "nbformat": 4,
  "nbformat_minor": 0,
  "metadata": {
    "accelerator": "GPU",
    "colab": {
      "name": "sketch_generatio_demo",
      "provenance": [],
      "include_colab_link": true
    },
    "kernelspec": {
      "display_name": "Python 3",
      "name": "python3"
    }
  },
  "cells": [
    {
      "cell_type": "markdown",
      "metadata": {
        "id": "view-in-github",
        "colab_type": "text"
      },
      "source": [
        "<a href=\"https://colab.research.google.com/github/cedro3/Sketch-Generation-with-Drawing-Process-Guided-by-Vector-Flow-and-Grayscale/blob/main/sketch_generatio_demo.ipynb\" target=\"_parent\"><img src=\"https://colab.research.google.com/assets/colab-badge.svg\" alt=\"Open In Colab\"/></a>"
      ]
    },
    {
      "cell_type": "markdown",
      "metadata": {
        "id": "wZvEDt0mtHNq"
      },
      "source": [
        "# google drive に接続"
      ]
    },
    {
      "cell_type": "code",
      "metadata": {
        "id": "WrWC29DiL3zJ"
      },
      "source": [
        "from google.colab import drive\n",
        "drive.mount('/content/drive')"
      ],
      "execution_count": null,
      "outputs": []
    },
    {
      "cell_type": "code",
      "metadata": {
        "id": "pxQhQuMEh7-9"
      },
      "source": [
        "%cd ./drive/MyDrive"
      ],
      "execution_count": null,
      "outputs": []
    },
    {
      "cell_type": "markdown",
      "metadata": {
        "id": "x-qhLXg0tCNj"
      },
      "source": [
        "# セットアップ"
      ]
    },
    {
      "cell_type": "code",
      "metadata": {
        "id": "lRmfEjSOz5XP"
      },
      "source": [
        "# githubからコードをコピー\r\n",
        "!git clone https://github.com/cedro3/Sketch-Generation-with-Drawing-Process-Guided-by-Vector-Flow-and-Grayscale.git\r\n",
        "%cd Sketch-Generation-with-Drawing-Process-Guided-by-Vector-Flow-and-Grayscale"
      ],
      "execution_count": null,
      "outputs": []
    },
    {
      "cell_type": "code",
      "metadata": {
        "id": "V8GmCzCYFNX9"
      },
      "source": [
        "from draw import *\n",
        "from PIL import Image\n",
        "import glob\n",
        "\n",
        "# setting\n",
        "file_name = 'kasumi.png'\n",
        "n = 10\n",
        "period = 5 \n",
        "\n",
        "# drawing\n",
        "draw(file_name, n, period)\n",
        "\n",
        "# images2gif\n",
        "dir_name = file_name[:-4] \n",
        "files = sorted(glob.glob('./output/'+dir_name+'/process/*.jpg'))\n",
        "images = list(map(lambda file: Image.open(file), files))\n",
        "images[0].save('./output/'+dir_name+'/out.gif', save_all=True, \n",
        "               append_images=images[1:], \n",
        "               duration=33, loop=0)"
      ],
      "execution_count": null,
      "outputs": []
    }
  ]
}